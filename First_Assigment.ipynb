{
 "cells": [
  {
   "cell_type": "code",
   "execution_count": null,
   "id": "8397d662-105c-4795-a575-5af1ec894616",
   "metadata": {},
   "outputs": [],
   "source": [
    "#First_Assignment"
   ]
  },
  {
   "cell_type": "code",
   "execution_count": 3,
   "id": "d694eb9b-8f46-49bf-a928-569c0d2e9879",
   "metadata": {},
   "outputs": [],
   "source": [
    "#Name: Smita Priyadarshinee Swain"
   ]
  },
  {
   "cell_type": "code",
   "execution_count": 5,
   "id": "bb3a4755-5ac3-4c72-98df-24f79dbf041c",
   "metadata": {},
   "outputs": [],
   "source": [
    "#Question No:1 \n",
    "#Explain the key featutes of Python that make it a popular choice for programming."
   ]
  },
  {
   "cell_type": "code",
   "execution_count": 6,
   "id": "6b5e2057-a758-4a9c-8e6d-1c7e3603ec14",
   "metadata": {},
   "outputs": [],
   "source": [
    "#Answer: Here are some key features that contribute to its popularity:\n",
    "#1. It is widely used in the IT industry.\n",
    "#2. It is widely used in the data industry.\n",
    "#3. Easy to learn and understand.\n",
    "#4. it has lot of libraries.\n",
    "#5.It has strong support for data handlings.\n",
    "#6.It provides front end and back end support.\n",
    "#7.Automation.\n",
    "#8.Image Processing."
   ]
  },
  {
   "cell_type": "code",
   "execution_count": 7,
   "id": "da7b79bc-73cb-4d31-8785-1786a968cb6d",
   "metadata": {},
   "outputs": [],
   "source": [
    "#Question no:2\n",
    "#Describe the role of predefined keywords in Python and provide examples of how they are used in a program."
   ]
  },
  {
   "cell_type": "code",
   "execution_count": 11,
   "id": "c08d66bc-79d7-44ad-b210-15d152b3d1c6",
   "metadata": {},
   "outputs": [
    {
     "name": "stdout",
     "output_type": "stream",
     "text": [
      "Both conditions are true\n",
      "a and b are not equal\n"
     ]
    }
   ],
   "source": [
    "#Answer:\n",
    "#Predefined keywords in Python are reserved words that have special meaning and are part of the language's syntax.\n",
    "#Python keywords are case-sensitive and help in writing programs with clear and understandable logic.\n",
    "#Examples of predefined keywords:\n",
    "#False, True, None, as,and, assert, elif, else, break, class, continue, class, for, etc.\n",
    "#Code\n",
    "# Example of logical operations\n",
    "a = 10\n",
    "b = 20\n",
    "\n",
    "if a < b and b < 30:\n",
    "    print(\"Both conditions are true\")\n",
    "\n",
    "if a != b:\n",
    "    print(\"a and b are not equal\")"
   ]
  },
  {
   "cell_type": "code",
   "execution_count": 12,
   "id": "08c5b238-afed-4e9c-8440-41059c31c916",
   "metadata": {},
   "outputs": [],
   "source": [
    "#Question 3: Compare and contrast mutable and immutable objects in Python with examples?"
   ]
  },
  {
   "cell_type": "code",
   "execution_count": 29,
   "id": "486044f6-8ac4-473a-8003-25464418d3db",
   "metadata": {},
   "outputs": [
    {
     "data": {
      "text/plain": [
       "[1, 2, 3, 5.6, 'smita']"
      ]
     },
     "execution_count": 29,
     "metadata": {},
     "output_type": "execute_result"
    }
   ],
   "source": [
    "#Answers:\n",
    "#mutability:- Objects/containers whose state or value can be changed after they are created are known as mutable objects.\n",
    "#Lists are type of mutable objects/that supports item assignments.\n",
    "#example:-list, set\n",
    "list_cont=[1, 2, 3, 5.6,\"smita\"]\n",
    "list_cont"
   ]
  },
  {
   "cell_type": "code",
   "execution_count": 34,
   "id": "e38bd6e8-98b2-46d7-8745-3aefe5a5feda",
   "metadata": {
    "tags": []
   },
   "outputs": [
    {
     "data": {
      "text/plain": [
       "[1, 2, 3, 5.6, 'Barsa']"
      ]
     },
     "execution_count": 34,
     "metadata": {},
     "output_type": "execute_result"
    }
   ],
   "source": [
    "list_cont[4] = \"Barsa\"\n",
    "list_cont"
   ]
  },
  {
   "cell_type": "code",
   "execution_count": 39,
   "id": "72278692-b307-4505-829f-c130b0b3ab49",
   "metadata": {},
   "outputs": [],
   "source": [
    "#Imutability:- Objects/containers whose value cannot be changed after they created.\n",
    "#strings are type of immutable object/doesn't support item assignment.\n",
    "#example:-float, boolean, string\n"
   ]
  },
  {
   "cell_type": "code",
   "execution_count": 40,
   "id": "56f386de-3673-463a-a9a7-84399dc98766",
   "metadata": {},
   "outputs": [],
   "source": [
    "#Question4:Discuss the different types of operators in Python and p$ovide examples of how they are used?\n"
   ]
  },
  {
   "cell_type": "code",
   "execution_count": 41,
   "id": "2662a000-ee27-4ccb-af45-4e270bfd2935",
   "metadata": {},
   "outputs": [
    {
     "data": {
      "text/plain": [
       "5"
      ]
     },
     "execution_count": 41,
     "metadata": {},
     "output_type": "execute_result"
    }
   ],
   "source": [
    "#Answers:\n",
    "#Python operators that are used to perform operationson values .\n",
    "#Different types of operators:\n",
    "#Arithmetic operators:- these are type of operators that are used to perform mathematical operations\n",
    "a=2\n",
    "b=3\n",
    "a+b"
   ]
  },
  {
   "cell_type": "code",
   "execution_count": 42,
   "id": "1128d1f6-ae66-4d5c-a07a-28b48ef2596d",
   "metadata": {},
   "outputs": [
    {
     "data": {
      "text/plain": [
       "True"
      ]
     },
     "execution_count": 42,
     "metadata": {},
     "output_type": "execute_result"
    }
   ],
   "source": [
    "#Comparison operators:it compares two values\n",
    "3==3"
   ]
  },
  {
   "cell_type": "code",
   "execution_count": 43,
   "id": "1568fadd-2acf-414a-ac20-6becfd62c886",
   "metadata": {},
   "outputs": [
    {
     "data": {
      "text/plain": [
       "True"
      ]
     },
     "execution_count": 43,
     "metadata": {},
     "output_type": "execute_result"
    }
   ],
   "source": [
    "#logical operators:these are used to combine multipleconditions together and evaluate them as a single boolean expression\n",
    "True and True"
   ]
  },
  {
   "cell_type": "code",
   "execution_count": 45,
   "id": "3a4d661b-d1ba-4c22-aec0-1d760554baaf",
   "metadata": {},
   "outputs": [
    {
     "data": {
      "text/plain": [
       "2"
      ]
     },
     "execution_count": 45,
     "metadata": {},
     "output_type": "execute_result"
    }
   ],
   "source": [
    "#Bitwise operator>> It manipulating individual bits within the integers.\n",
    "35 & 30"
   ]
  },
  {
   "cell_type": "code",
   "execution_count": 55,
   "id": "dedb90df-ce6a-46dc-b9f4-0d59f624ae17",
   "metadata": {},
   "outputs": [
    {
     "data": {
      "text/plain": [
       "19"
      ]
     },
     "execution_count": 55,
     "metadata": {},
     "output_type": "execute_result"
    }
   ],
   "source": [
    "#Assignment operators>>if we are assigning a value to a operator\n",
    "a=9\n",
    "a= a+10\n",
    "a\n"
   ]
  },
  {
   "cell_type": "code",
   "execution_count": 56,
   "id": "6c6f6dd6-3548-4911-b916-06e25a5ad9da",
   "metadata": {},
   "outputs": [
    {
     "data": {
      "text/plain": [
       "True"
      ]
     },
     "execution_count": 56,
     "metadata": {},
     "output_type": "execute_result"
    }
   ],
   "source": [
    "#Membership operators:it checks whether a given value is a member or not\n",
    "a= \"smita\"\n",
    "\"sm\" in a"
   ]
  },
  {
   "cell_type": "code",
   "execution_count": 57,
   "id": "717dfcdc-8352-4247-9edc-acec8a9f1007",
   "metadata": {},
   "outputs": [
    {
     "data": {
      "text/plain": [
       "True"
      ]
     },
     "execution_count": 57,
     "metadata": {},
     "output_type": "execute_result"
    }
   ],
   "source": [
    "#identity operators>>it compares the location of two objects in the memory\n",
    "a=5\n",
    "b=5\n",
    "a is b"
   ]
  },
  {
   "cell_type": "code",
   "execution_count": 58,
   "id": "7e15c10f-85b9-4e4d-b1c7-f466c2c05c3e",
   "metadata": {},
   "outputs": [],
   "source": [
    "#question6: explain the concept of type casting in Python with examples\n"
   ]
  },
  {
   "cell_type": "code",
   "execution_count": 59,
   "id": "28d9eb66-2f7b-4096-a1c0-d4edb22690cb",
   "metadata": {},
   "outputs": [
    {
     "data": {
      "text/plain": [
       "str"
      ]
     },
     "execution_count": 59,
     "metadata": {},
     "output_type": "execute_result"
    }
   ],
   "source": [
    "#answer:\n",
    "#type casting is the process of changing the data type of a value in python\n",
    "a= \"8.5\"\n",
    "type(a)"
   ]
  },
  {
   "cell_type": "code",
   "execution_count": 60,
   "id": "7371d1dc-ad9c-4d61-a492-a8c8b1ebe394",
   "metadata": {},
   "outputs": [
    {
     "data": {
      "text/plain": [
       "9"
      ]
     },
     "execution_count": 60,
     "metadata": {},
     "output_type": "execute_result"
    }
   ],
   "source": [
    "#two types of type casting:\n",
    "#1.implicit>>in this we gave only numbers but the python understands and give us the result\n",
    "4+5"
   ]
  },
  {
   "cell_type": "code",
   "execution_count": 61,
   "id": "d3e82dfd-b55e-4d4f-980e-2a3b298c546c",
   "metadata": {},
   "outputs": [
    {
     "data": {
      "text/plain": [
       "int"
      ]
     },
     "execution_count": 61,
     "metadata": {},
     "output_type": "execute_result"
    }
   ],
   "source": [
    "#2.explicit>>in this we convert data types using inbuilt functions\n",
    "a=8\n",
    "type(a)"
   ]
  },
  {
   "cell_type": "code",
   "execution_count": 62,
   "id": "7f1aeefb-508e-41b0-9f7b-ec56c4e34bee",
   "metadata": {},
   "outputs": [
    {
     "data": {
      "text/plain": [
       "'8'"
      ]
     },
     "execution_count": 62,
     "metadata": {},
     "output_type": "execute_result"
    }
   ],
   "source": [
    "str(a)"
   ]
  },
  {
   "cell_type": "code",
   "execution_count": 67,
   "id": "53dfff09-3680-41aa-87f9-b08ff5b6fbba",
   "metadata": {},
   "outputs": [],
   "source": [
    "#question no 6>>\n",
    "#How do conditional statements work in Python ? Illustrate with examples\n"
   ]
  },
  {
   "cell_type": "code",
   "execution_count": 69,
   "id": "502f79cd-88e6-4277-bea0-efecea637ae0",
   "metadata": {},
   "outputs": [
    {
     "name": "stdout",
     "output_type": "stream",
     "text": [
      "Equals to 95\n"
     ]
    }
   ],
   "source": [
    "#answer>>it helps to code decisions based on some preconditions\n",
    "#it works in different conditions such as if, if-else, if-else-else and nested-if-else\n",
    "#1. if- it executes if block if the condition is true\n",
    "a=95\n",
    "if a==95:\n",
    "    print(\"Equals to 95\")"
   ]
  },
  {
   "cell_type": "code",
   "execution_count": 73,
   "id": "071cd558-e36e-4615-99b9-974140c151fb",
   "metadata": {},
   "outputs": [
    {
     "name": "stdout",
     "output_type": "stream",
     "text": [
      "smaller than 95\n"
     ]
    }
   ],
   "source": [
    "#if-else= it will execute the if block when the condition is true or else it will exexute the else block\n",
    "a=95\n",
    "if a>=105:\n",
    "    print(\"Equals to 95\")\n",
    "else:\n",
    "    print(\"smaller than 95\")"
   ]
  },
  {
   "cell_type": "code",
   "execution_count": 77,
   "id": "d63173fe-619c-4c26-95ac-a17ceaf3422b",
   "metadata": {},
   "outputs": [
    {
     "name": "stdout",
     "output_type": "stream",
     "text": [
      "smaller than 105\n"
     ]
    }
   ],
   "source": [
    "#if-else-else\n",
    "a=95\n",
    "if a>105:\n",
    "    print(\"greater than 105\")\n",
    "elif a<105:\n",
    "    print(\"smaller than 105\")\n",
    "else:\n",
    "    print(\"equals to 105\")"
   ]
  },
  {
   "cell_type": "code",
   "execution_count": 80,
   "id": "3d93e5eb-80e2-4ebd-a101-c75af1106cdb",
   "metadata": {},
   "outputs": [
    {
     "name": "stdout",
     "output_type": "stream",
     "text": [
      "a is not greater than 100\n"
     ]
    }
   ],
   "source": [
    "#nested if else:\n",
    "a=95\n",
    "b=105\n",
    "if a>100:\n",
    "    if b>100:\n",
    "        print(\"Both a and b is greater than 100\")\n",
    "    else:\n",
    "        print(\"a is greater than 100 but b is less than 100\")\n",
    "else:\n",
    "    print(\"a is not greater than 100\")"
   ]
  },
  {
   "cell_type": "code",
   "execution_count": 82,
   "id": "4566bfc6-ede1-4fb5-be9a-a92bad33cee4",
   "metadata": {},
   "outputs": [],
   "source": [
    "#question 7>> Describe the different types of loops in Python and their use cases with examples"
   ]
  },
  {
   "cell_type": "code",
   "execution_count": 93,
   "id": "460b8186-5db9-4545-b29f-58a0770e66ab",
   "metadata": {},
   "outputs": [
    {
     "name": "stdout",
     "output_type": "stream",
     "text": [
      "1\n",
      "2\n",
      "3\n",
      "4\n",
      "5\n"
     ]
    }
   ],
   "source": [
    "#answers>>\n",
    "#loop>> it allows to execute a block of codes repeatedly\n",
    "#there are two types of loops>> while loops and for loop\n",
    "#1. while loop>>it repeatedly execute a block of code until it met a condition\n",
    "\n",
    "a=6\n",
    "b=1\n",
    "while b<a:\n",
    "    print(b)\n",
    "    b = b+1"
   ]
  },
  {
   "cell_type": "code",
   "execution_count": 94,
   "id": "335446fa-dd5d-409f-b6a5-86d9fdc58070",
   "metadata": {},
   "outputs": [
    {
     "name": "stdout",
     "output_type": "stream",
     "text": [
      "s\n",
      "m\n",
      "i\n",
      "t\n",
      "a\n"
     ]
    }
   ],
   "source": [
    "#2.for loop>>it iterate over a sequence of elements.\n",
    "\n",
    "for a in \"smita\":\n",
    "    print(a)"
   ]
  }
 ],
 "metadata": {
  "kernelspec": {
   "display_name": "Python 3 (ipykernel)",
   "language": "python",
   "name": "python3"
  },
  "language_info": {
   "codemirror_mode": {
    "name": "ipython",
    "version": 3
   },
   "file_extension": ".py",
   "mimetype": "text/x-python",
   "name": "python",
   "nbconvert_exporter": "python",
   "pygments_lexer": "ipython3",
   "version": "3.10.8"
  }
 },
 "nbformat": 4,
 "nbformat_minor": 5
}
