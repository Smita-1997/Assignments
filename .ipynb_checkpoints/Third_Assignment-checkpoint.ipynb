{
 "cells": [
  {
   "cell_type": "code",
   "execution_count": null,
   "id": "ee49690f-de25-4b5e-99b2-ad8667f45552",
   "metadata": {},
   "outputs": [],
   "source": [
    "#Assignment no 03- Functions\n",
    "#Q1.What is the difference between a function and a method in Python?\n",
    "#Answers>>\n",
    "#Function: it is a block of code which performs some specific task or computation.\n",
    "#functions are reusable\n",
    "#functions remain neat and clean and organised and it saves time.\n",
    "#defined using \"def\" keyword\n",
    "#Methods>>In Python, methods are defined within a class and operate on instances of that class or on the class itself.\n",
    "#Methods take at least one parameter: self for instance methods (which refers to the instance of the class) \n"
   ]
  },
  {
   "cell_type": "code",
   "execution_count": null,
   "id": "f356493e-0ee4-4428-b4fe-7878321a3377",
   "metadata": {},
   "outputs": [],
   "source": [
    "#Q2. Explain the concept of function arguments and parameters in Python.\n",
    "#Answer>>\n",
    "#Parameters>>\n",
    "#these are the variables listed inside the parentheses in the function definition. \n",
    "#it act as placeholders for the values that will be passed to the function.\n",
    "#def greet (\"name\")>> \"name\" is a parameter to greet function\n",
    "#Arguments>>\n",
    "#Arguments are the actual values that are passed to the function when it is called. \n",
    "#These values are assigned to the corresponding parameters in the function definition.\n",
    "#greet(\"smita\")>> \"smita\" is the argument passed to the greet function\n",
    "\n"
   ]
  },
  {
   "cell_type": "code",
   "execution_count": 1,
   "id": "e9ced8de-6771-4f27-8d84-5cee9b61bc7d",
   "metadata": {},
   "outputs": [
    {
     "name": "stdout",
     "output_type": "stream",
     "text": [
      "Hello i am smita\n"
     ]
    }
   ],
   "source": [
    "#Q3. What are the different ways to define and call a function in Python?\n",
    "#Answers>>\n",
    "#functions can be called or defined in diffrent ways such as>>\n",
    "#1>>function definition and call\n",
    "def greet():\n",
    "    print(\"Hello i am smita\")\n",
    "    \n",
    "greet()"
   ]
  },
  {
   "cell_type": "code",
   "execution_count": 2,
   "id": "3932999e-ce83-42cf-94df-74e023125884",
   "metadata": {},
   "outputs": [
    {
     "name": "stdout",
     "output_type": "stream",
     "text": [
      "Hello i am smita here\n"
     ]
    }
   ],
   "source": [
    "#2>>function with default parameters\n",
    "#If arguments for these parameters are not provided, the default values are used.\n",
    "def greet(name):\n",
    "    print(\"Hello i am smita\", name)\n",
    "    \n",
    "greet (\"here\")    "
   ]
  },
  {
   "cell_type": "code",
   "execution_count": 3,
   "id": "5887ae2c-17f7-426f-919b-ec07663ce677",
   "metadata": {},
   "outputs": [
    {
     "data": {
      "text/plain": [
       "3"
      ]
     },
     "execution_count": 3,
     "metadata": {},
     "output_type": "execute_result"
    }
   ],
   "source": [
    "#3>>Functions with Keyword Arguments\n",
    "#can call functions using keyword arguments, specifying the parameter names.\n",
    "def add(a, b):\n",
    "    return(a+b)\n",
    "\n",
    "add(1, 2)   "
   ]
  },
  {
   "cell_type": "code",
   "execution_count": 7,
   "id": "fe90550e-06ba-4b8c-8735-6813c76b959e",
   "metadata": {},
   "outputs": [],
   "source": [
    "#4>>Functions with Arbitrary Arguments\n",
    "#You can define functions that accept an arbitrary number of positional or keyword arguments \n",
    "#using *args and **kwargs.\n",
    "def print_all(*args):\n",
    "    for arg in args:\n",
    "        print(arg)"
   ]
  },
  {
   "cell_type": "code",
   "execution_count": 9,
   "id": "2d5d7fbd-760e-49e0-8e60-d0f4fe9f31f9",
   "metadata": {},
   "outputs": [],
   "source": [
    "#5>>lamba function\n",
    "#Lambda functions are small anonymous functions defined using the lambda keyword. \n",
    "#They are typically used for short, simple operations.\n",
    "square = lambda x: x ** 2"
   ]
  },
  {
   "cell_type": "code",
   "execution_count": 10,
   "id": "a1341ab5-a7bb-4b8b-ad28-8ca3f2ba9e19",
   "metadata": {},
   "outputs": [
    {
     "data": {
      "text/plain": [
       "9"
      ]
     },
     "execution_count": 10,
     "metadata": {},
     "output_type": "execute_result"
    }
   ],
   "source": [
    "square(3)"
   ]
  },
  {
   "cell_type": "code",
   "execution_count": 11,
   "id": "f5d0bd18-c634-41d2-9811-5ecdb04dddbb",
   "metadata": {},
   "outputs": [],
   "source": [
    "#6>>Nested Functions\n",
    "#You can define functions within other functions.\n",
    "def outer_function(text):\n",
    "    def inner_function():\n",
    "        print(text)\n",
    "    inner_function()"
   ]
  },
  {
   "cell_type": "code",
   "execution_count": 12,
   "id": "b190a0ba-4295-40ae-9da6-0ade52d00010",
   "metadata": {},
   "outputs": [
    {
     "data": {
      "text/plain": [
       "('smita', 'swain', 'hello', 1, 2)"
      ]
     },
     "execution_count": 12,
     "metadata": {},
     "output_type": "execute_result"
    }
   ],
   "source": [
    "#Q4>>What is the purpose of the `return` statement in a Python function?\n",
    "#answer>>\n",
    "#The return statement in a Python function is used to exit the function \n",
    "#and optionally pass a value back to the caller\n",
    "#returns each of the functions value separately.\n",
    "def func():\n",
    "    return(\"smita\", \"swain\", \"hello\", 1, 2)\n",
    "func()"
   ]
  },
  {
   "cell_type": "code",
   "execution_count": 13,
   "id": "e62d3ce4-6ce4-4f89-bdb1-0c3093004db2",
   "metadata": {},
   "outputs": [
    {
     "data": {
      "text/plain": [
       "'smita'"
      ]
     },
     "execution_count": 13,
     "metadata": {},
     "output_type": "execute_result"
    }
   ],
   "source": [
    "a, b, c, d, e = func()\n",
    "a"
   ]
  },
  {
   "cell_type": "code",
   "execution_count": 14,
   "id": "d289a3ae-61bc-45e8-ae68-3cbec7b5db16",
   "metadata": {},
   "outputs": [
    {
     "data": {
      "text/plain": [
       "'swain'"
      ]
     },
     "execution_count": 14,
     "metadata": {},
     "output_type": "execute_result"
    }
   ],
   "source": [
    "b"
   ]
  },
  {
   "cell_type": "code",
   "execution_count": null,
   "id": "b31555d2-8f5c-4204-a501-49f033d6252e",
   "metadata": {},
   "outputs": [],
   "source": [
    "#Q5>>What are iterators in Python and how do they differ from iterables?\n",
    "#answer>>\n",
    "#iterable>>\n",
    "#it is any python object or sequential string or data structure\n",
    "#it is capable of returning all its members one at a time\n",
    "#it permitting to be iterable over in a for loop or while loop\n",
    "#example>> lis[1, 2, 3, \"smita\"]  >> lis is an iterable object\n",
    "\n",
    "#iterators\n",
    "#it is an bject representing a stream of data\n",
    "#it returns data one by one\n"
   ]
  },
  {
   "cell_type": "code",
   "execution_count": 15,
   "id": "c6f7148d-64b8-4036-8fe7-fe61f14510f6",
   "metadata": {},
   "outputs": [
    {
     "data": {
      "text/plain": [
       "<generator object square_number_generators at 0x7f0d5cc11e70>"
      ]
     },
     "execution_count": 15,
     "metadata": {},
     "output_type": "execute_result"
    }
   ],
   "source": [
    "#Q6>>Explain the concept of generators in Python and how they are defined.\n",
    "#answers>>\n",
    "#Generators in Python are a special type of iterator that allow you to iterate over a sequence of values without having to store the entire sequence in memory at once. \n",
    "#This makes them memory-efficient and ideal for working with large datasets or streams of data.\n",
    "#Once a generator has been iterated over, it cannot be reset or reused.\n",
    "#they are defined as follows:\n",
    "#a>.Generator Functions\n",
    "#A generator function is defined like a normal function, but instead of returning a single value, \n",
    "#it uses the yield keyword to yield a series of values one at a time.\n",
    "def square_number_generators(n):\n",
    "    for i in range (n):\n",
    "        yield i**2\n",
    "        \n",
    "square_number_generators(10)\n"
   ]
  },
  {
   "cell_type": "code",
   "execution_count": 33,
   "id": "8597e6aa-74d2-4414-8a06-f446c5026786",
   "metadata": {},
   "outputs": [],
   "source": [
    "gen=square_number_generators"
   ]
  },
  {
   "cell_type": "code",
   "execution_count": null,
   "id": "e427b1da-8dfc-43ea-b81f-0fe551ab9a5f",
   "metadata": {},
   "outputs": [],
   "source": [
    "#b>>Generator Expressions\n",
    "#Generator expressions provide a concise way to create generators. \n",
    "#They are similar to list comprehensions but use parentheses instead of square brackets."
   ]
  },
  {
   "cell_type": "code",
   "execution_count": null,
   "id": "bd2a8440-7846-4886-88b2-ccee3a76fabf",
   "metadata": {},
   "outputs": [],
   "source": [
    "#Q7>>What are the advantages of using generators over regular functions?\n",
    "#Answers>>\n",
    "#Advantages of Generators\n",
    "#Generators only produce items one at a time, which can significantly reduce memory usage compared to lists.\n",
    "#Generators can be faster for large datasets because they avoid the overhead of loading an entire list into memory.\n",
    "#Generators can be used to create infinite sequences (e.g., all natural numbers) without running out of memory."
   ]
  },
  {
   "cell_type": "code",
   "execution_count": 34,
   "id": "02677530-628c-4d78-965c-5921e8f4d867",
   "metadata": {},
   "outputs": [
    {
     "data": {
      "text/plain": [
       "12"
      ]
     },
     "execution_count": 34,
     "metadata": {},
     "output_type": "execute_result"
    }
   ],
   "source": [
    "#Q8>> What is a lambda function in Python and when is it typically used?\n",
    "#answers>>\n",
    "#A lambda function in Python is a small, anonymous function defined using the lambda keyword.\n",
    "#syntax:lambda arguments: expression\n",
    "add_ten = lambda x: x + 10\n",
    "add_ten(2)"
   ]
  },
  {
   "cell_type": "code",
   "execution_count": 35,
   "id": "63af02fe-e7bb-459d-9f83-dcb87b497e87",
   "metadata": {},
   "outputs": [
    {
     "name": "stdout",
     "output_type": "stream",
     "text": [
      "2\n"
     ]
    }
   ],
   "source": [
    "#multiplication of 2parameters\n",
    "multiply = lambda x, y: x * y\n",
    "print(multiply(2, 1)) "
   ]
  },
  {
   "cell_type": "code",
   "execution_count": 37,
   "id": "5767bbab-860f-42cd-adce-f80cb11ba393",
   "metadata": {},
   "outputs": [
    {
     "data": {
      "text/plain": [
       "True"
      ]
     },
     "execution_count": 37,
     "metadata": {},
     "output_type": "execute_result"
    }
   ],
   "source": [
    "#even/odd\n",
    "is_even = lambda x: x%2 == 0\n",
    "is_even(4)"
   ]
  },
  {
   "cell_type": "code",
   "execution_count": 38,
   "id": "e35e1ef7-8a1a-4cc1-a91b-501d187bca76",
   "metadata": {},
   "outputs": [
    {
     "data": {
      "text/plain": [
       "5"
      ]
     },
     "execution_count": 38,
     "metadata": {},
     "output_type": "execute_result"
    }
   ],
   "source": [
    "#length>>\n",
    "le = lambda x: len(x)\n",
    "le(\"smita\")"
   ]
  },
  {
   "cell_type": "code",
   "execution_count": 40,
   "id": "2566a569-19b5-4622-bfae-39f55aca810a",
   "metadata": {},
   "outputs": [
    {
     "data": {
      "text/plain": [
       "['kaju', 'hello', 'functions']"
      ]
     },
     "execution_count": 40,
     "metadata": {},
     "output_type": "execute_result"
    }
   ],
   "source": [
    "x=[\"hello\", \"functions\", \"kaju\"]\n",
    "sorted(x, key = lambda x: len(x))"
   ]
  },
  {
   "cell_type": "code",
   "execution_count": 41,
   "id": "b67f285d-ef96-4f2c-9dbb-82de5cc1283b",
   "metadata": {},
   "outputs": [
    {
     "data": {
      "text/plain": [
       "[1, 4, 9, 16]"
      ]
     },
     "execution_count": 41,
     "metadata": {},
     "output_type": "execute_result"
    }
   ],
   "source": [
    "#9>>Explain the purpose and usage of the `map()` function in Python.\n",
    "#answers>>\n",
    "#map executes a specific function for each of item of an iterable.\n",
    "#purpose>>\n",
    "#it makes an iterator that computes the function using arguments from each of the iterables.\n",
    "#stops when the shortest iterables is exhausted.\n",
    "#it allows for cleaner more readable code by eliminating the need for explicit loops to apply transformations.\n",
    " #usage>>\n",
    "#adding a function to the list>>\n",
    "l = [1, 2, 3, 4]\n",
    "def sq(x):\n",
    "    return x**2\n",
    "list (map(sq,l))"
   ]
  },
  {
   "cell_type": "code",
   "execution_count": 43,
   "id": "861fcb30-35d4-49e4-a38c-bad6b9fe3992",
   "metadata": {},
   "outputs": [
    {
     "data": {
      "text/plain": [
       "[1, 4, 9, 16]"
      ]
     },
     "execution_count": 43,
     "metadata": {},
     "output_type": "execute_result"
    }
   ],
   "source": [
    "#using lambda with map>>\n",
    "list(map(lambda x: x**2, l))"
   ]
  },
  {
   "cell_type": "code",
   "execution_count": 44,
   "id": "026df8ed-5eb4-4810-b80c-77b08455d937",
   "metadata": {},
   "outputs": [
    {
     "name": "stdout",
     "output_type": "stream",
     "text": [
      "[5, 7, 9]\n"
     ]
    }
   ],
   "source": [
    "#mapping multible iterables\n",
    "numbers1 = [1, 2, 3]\n",
    "numbers2 = [4, 5, 6]\n",
    "\n",
    "def add(x, y):\n",
    "    return x + y\n",
    "\n",
    "summed = map(add, numbers1, numbers2)\n",
    "print(list(summed))"
   ]
  },
  {
   "cell_type": "code",
   "execution_count": null,
   "id": "f7ae1ac6-a211-4c59-93ca-b733f9a5fca1",
   "metadata": {},
   "outputs": [],
   "source": [
    "#Q10>> What is the difference between `map()`, `reduce()`, and `filter()` functions in Python?\n",
    "#answers>>\n",
    "#maps>>\n",
    "#To apply a given function to each item in an iterable and return an iterator with the results.\n",
    "#Returns an iterator of the transformed items.\n",
    "#The function takes one or more arguments \n",
    "#reduce\n",
    "#applies a function cumulatively to the elements of the iterable, reducing it to a single value.\n",
    "#Returns a single accumulated value.\n",
    "#The function takes two arguments\n",
    "#filter>>>\n",
    "#applies a function to each element of the iterable and returns an iterator with only those elements for which the function returns True.\n",
    "#Returns an iterator of elements that meet the condition.\n",
    "#The function takes one argument and returns a boolean value."
   ]
  },
  {
   "cell_type": "code",
   "execution_count": 45,
   "id": "e0e101bc-93ba-41a3-887c-0de1ef62a3a0",
   "metadata": {},
   "outputs": [
    {
     "name": "stdout",
     "output_type": "stream",
     "text": [
      "30\n"
     ]
    }
   ],
   "source": [
    "#PRACTICAL\n",
    "#Q1>> Write a Python function that takes a list of numbers as input and returns the sum of all even numbers to the list\n",
    "\n",
    "def sum_of_even_numbers(numbers):\n",
    "    even_numbers = filter(lambda x: x % 2) \n",
    "    return total_sum\n",
    "numbers = [1, 2, 3, 4, 5, 6, 7, 8, 9, 10]\n",
    "result = sum_of_even_numbers(numbers)\n",
    "print(result) "
   ]
  },
  {
   "cell_type": "code",
   "execution_count": 1,
   "id": "b56895e5-ba68-48de-9bed-f15e53e25e06",
   "metadata": {},
   "outputs": [
    {
     "name": "stdout",
     "output_type": "stream",
     "text": [
      "atimS ,iiH\n"
     ]
    }
   ],
   "source": [
    "#Q2>>. Create a Python function that accepts a string and returns the reverse of that string.\n",
    "def reverse_string(string):\n",
    "    reversed_string = string[::-1]\n",
    "    return reversed_string\n",
    "\n",
    "string = \"Hii, Smita\"\n",
    "result = reverse_string(string)\n",
    "print(result) "
   ]
  },
  {
   "cell_type": "code",
   "execution_count": 51,
   "id": "f2d053d4-acbe-4da2-8d34-ff6443e8f925",
   "metadata": {},
   "outputs": [
    {
     "name": "stdout",
     "output_type": "stream",
     "text": [
      "[1, 4, 9, 16, 25]\n"
     ]
    }
   ],
   "source": [
    "#Q3>>Implement a Python function that takes a list of integers and returns a new list containing the squareseach numbers?\n",
    "#answer\n",
    "def squares_of_numbers(numbers):\n",
    "    squared_numbers = [x ** 2 for x in numbers]\n",
    "    return squared_numbers\n",
    "\n",
    "list = [1, 2, 3, 4, 5]\n",
    "result = squares_of_numbers(list)\n",
    "print(result)"
   ]
  },
  {
   "cell_type": "code",
   "execution_count": 54,
   "id": "3bfd4997-d1ca-4f1c-bf8b-1b4396939b64",
   "metadata": {},
   "outputs": [
    {
     "name": "stdout",
     "output_type": "stream",
     "text": [
      "True\n"
     ]
    }
   ],
   "source": [
    "#Q4>>Write a Python function that checks if a given number is prime or not from 1 to 200.\n",
    "def is_prime(number):\n",
    "    if number < 2:\n",
    "        return False\n",
    "    for i in range(2, int(number ** 0.5) + 1):\n",
    "        if number % i == 0:\n",
    "            return False\n",
    "    return True\n",
    "\n",
    "def check_prime_in_range(number):\n",
    "    if 1 <= number <= 200:\n",
    "        return is_prime(number)\n",
    "    else:\n",
    "        return \"Number is out of range (1 to 200)\"\n",
    "\n",
    "test_number = 37\n",
    "result = check_prime_in_range(test_number)\n",
    "print(result) "
   ]
  },
  {
   "cell_type": "code",
   "execution_count": 57,
   "id": "8ce17230-b849-4bd7-90b0-8710dd25791b",
   "metadata": {},
   "outputs": [
    {
     "name": "stdout",
     "output_type": "stream",
     "text": [
      "1\n",
      "2\n",
      "4\n",
      "8\n",
      "16\n"
     ]
    }
   ],
   "source": [
    "#Q6>>Write a generator function in Python that yields the powers of 2 up to a given exponent.\n",
    "#answers>>\n",
    "def powers_of_two(max):\n",
    "    exponent = 0\n",
    "    while exponent <= max:\n",
    "        yield 2 ** exponent\n",
    "        exponent += 1\n",
    "\n",
    "max = 4\n",
    "for power in powers_of_two(max):\n",
    "    print(power)"
   ]
  },
  {
   "cell_type": "code",
   "execution_count": 62,
   "id": "d6238028-7d28-4b60-b351-f05107459074",
   "metadata": {},
   "outputs": [
    {
     "name": "stdout",
     "output_type": "stream",
     "text": [
      "[(2, 'apple'), (1, 'banana'), (3, 'cherry'), (4, 'date')]\n"
     ]
    }
   ],
   "source": [
    "#Q8>>. Use a lambda function in Python to sort a list of tuples based on the second element of each tuple.\n",
    "#ANSWERS>>\n",
    "tuples_list = [(1, 'banana'), (2, 'apple'), (3, 'cherry'), (4, 'date')]\n",
    "sorted_list = sorted(tuples_list, key=lambda x: x[1])\n",
    "\n",
    "print(sorted_list)"
   ]
  },
  {
   "cell_type": "code",
   "execution_count": 68,
   "id": "9fed88cf-b719-40e8-88fe-bbd4cbb9463f",
   "metadata": {},
   "outputs": [
    {
     "name": "stdout",
     "output_type": "stream",
     "text": [
      "Hll, Wrld!\n"
     ]
    }
   ],
   "source": [
    "#Q10>> Create a Python program that uses `filter()` to remove all the vowels from a given string.\n",
    "#ANSWERS\n",
    "def is_consonant(char):\n",
    "    vowels = 'aeiouAEIOU'\n",
    "    return char not in vowels\n",
    "\n",
    "def remove_vowels(input_string):\n",
    "    filtered_chars = filter(is_consonant, input_string)\n",
    "    return ''.join(filtered_chars)\n",
    "\n",
    "\n",
    "input_string = \"Hello, World!\"\n",
    "result = remove_vowels(input_string)\n",
    "print(result)"
   ]
  },
  {
   "cell_type": "code",
   "execution_count": 2,
   "id": "baab3a5f-a60c-45eb-940f-a66202c42d14",
   "metadata": {},
   "outputs": [
    {
     "name": "stdout",
     "output_type": "stream",
     "text": [
      "[(34587, 163.8), (98762, 284.0), (77226, 108.85), (88112, 84.97)]\n"
     ]
    }
   ],
   "source": [
    "orders = \n",
    "    [34587, \"Learning Python\", 4, 40.95],\n",
    "    [98762, \"Programming Python\", 5, 56.80],\n",
    "    [77226, \"Head First Python\", 3, 32.95],\n",
    "    [88112, \"Einführung in Python3\", 3, 24.99]\n",
    "\n",
    "\n",
    "\n",
    "calculate_total = lambda order: (order[0], round(order[2] * order[3] + (10 if order[2] * order[3] < 100 else 0), 2))\n",
    "\n",
    "\n",
    "result = list(map(calculate_total, orders))\n",
    "\n",
    "print(result)"
   ]
  },
  {
   "cell_type": "code",
   "execution_count": null,
   "id": "2cee0cbe-a46d-47d4-90e7-e88ae71522fd",
   "metadata": {},
   "outputs": [],
   "source": []
  }
 ],
 "metadata": {
  "kernelspec": {
   "display_name": "Python 3 (ipykernel)",
   "language": "python",
   "name": "python3"
  },
  "language_info": {
   "codemirror_mode": {
    "name": "ipython",
    "version": 3
   },
   "file_extension": ".py",
   "mimetype": "text/x-python",
   "name": "python",
   "nbconvert_exporter": "python",
   "pygments_lexer": "ipython3",
   "version": "3.10.8"
  }
 },
 "nbformat": 4,
 "nbformat_minor": 5
}
