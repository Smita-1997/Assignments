{
 "cells": [
  {
   "cell_type": "code",
   "execution_count": null,
   "id": "c7a6efe4-73f5-42ba-84d5-e170f8e04dfd",
   "metadata": {},
   "outputs": [],
   "source": [
    "#Assignment2\n",
    "#Assignment_name >> Data Structure"
   ]
  },
  {
   "cell_type": "code",
   "execution_count": 10,
   "id": "a807e984-2d31-4108-a07b-5b20aef8daa6",
   "metadata": {},
   "outputs": [
    {
     "data": {
      "text/plain": [
       "'I am learning data analytics'"
      ]
     },
     "execution_count": 10,
     "metadata": {},
     "output_type": "execute_result"
    }
   ],
   "source": [
    "#Q1. Discuss string slicing and provide eamples?\n",
    "#Answer>>\n",
    "#It allows to extract a substring (a portion of a string) from a given string.\n",
    "#Example>>\n",
    "string1 = \"I am learning data analytics\"\n",
    "#if we want all character\n",
    "string1[0:]"
   ]
  },
  {
   "cell_type": "code",
   "execution_count": 5,
   "id": "bec845a8-7d60-435c-9d77-172b70d69035",
   "metadata": {},
   "outputs": [
    {
     "data": {
      "text/plain": [
       "'m learning data'"
      ]
     },
     "execution_count": 5,
     "metadata": {},
     "output_type": "execute_result"
    }
   ],
   "source": [
    "#Slice sub string>>\n",
    "string1[3:18]"
   ]
  },
  {
   "cell_type": "code",
   "execution_count": 12,
   "id": "e66e0eed-753a-4995-beaf-ce6c05a2b783",
   "metadata": {},
   "outputs": [
    {
     "data": {
      "text/plain": [
       "'I am learning data '"
      ]
     },
     "execution_count": 12,
     "metadata": {},
     "output_type": "execute_result"
    }
   ],
   "source": [
    "#if we want all character except last\n",
    "string1[:-9]"
   ]
  },
  {
   "cell_type": "code",
   "execution_count": 14,
   "id": "b5ed6dd4-28cb-43af-9b71-b9ceebdc61b4",
   "metadata": {},
   "outputs": [
    {
     "data": {
      "text/plain": [
       "'analytics'"
      ]
     },
     "execution_count": 14,
     "metadata": {},
     "output_type": "execute_result"
    }
   ],
   "source": [
    "#if we want only last character\n",
    "string1[19:]"
   ]
  },
  {
   "cell_type": "code",
   "execution_count": null,
   "id": "ee7aea6b-ea84-47b4-be43-8802fe71944d",
   "metadata": {},
   "outputs": [],
   "source": [
    "#Q2. Explain the key features of lists in Python?\n",
    "#Answer>>\n",
    "#Lists in Python are versatile data structures that allow you to store and manipulate collections of items. \n",
    "#Key features of list are:\n",
    "#1.List are mutable. It can change the elements after the list has been created. It can modify, add, or remove elements freely.\n",
    "#2.List are ordered collection of items\n",
    "#3.Lists can grow and shrink dynamically. You can add new elements using append() or insert() methods, and remove elements using pop() or remove() methods.\n",
    "#4.List can able to store heterogeneous data.\n",
    "#5.Elements in a list can be accessed using indexing and slicing. Negative indices can be used to access elements from the end of the list.\n",
    "#6.Lists support common operations such as concatenation (+), repetition (*), membership testing (in and not in), and finding the length (len())."
   ]
  },
  {
   "cell_type": "code",
   "execution_count": 16,
   "id": "da711889-8e54-4cbe-8be0-c030c9a87837",
   "metadata": {},
   "outputs": [
    {
     "data": {
      "text/plain": [
       "['smita', 'swain', 'ivaan']"
      ]
     },
     "execution_count": 16,
     "metadata": {},
     "output_type": "execute_result"
    }
   ],
   "source": [
    "#Q3.Describe how to access, modify, and delete elements in a list with examples?\n",
    "#Answers>>\n",
    "#Access elements in a list>>access elements in a list using indexing and slicing. Indexing starts at 0 for the first element, and negative indices count from the end of the list.\n",
    "#example>>\n",
    "my_list= [\"smita\", \"swain\", \"ivaan\"]\n",
    "my_list"
   ]
  },
  {
   "cell_type": "code",
   "execution_count": 17,
   "id": "dde05b8e-0381-40a4-82ab-ba03156f9ea7",
   "metadata": {},
   "outputs": [
    {
     "data": {
      "text/plain": [
       "'smita'"
      ]
     },
     "execution_count": 17,
     "metadata": {},
     "output_type": "execute_result"
    }
   ],
   "source": [
    "#access single element\n",
    "my_list[0]"
   ]
  },
  {
   "cell_type": "code",
   "execution_count": 19,
   "id": "ec2f96e1-0623-4713-a51f-5a059663f7a6",
   "metadata": {},
   "outputs": [
    {
     "data": {
      "text/plain": [
       "['swain', 'ivaan']"
      ]
     },
     "execution_count": 19,
     "metadata": {},
     "output_type": "execute_result"
    }
   ],
   "source": [
    "#access multiple element using slicing:\n",
    "my_list[1:3]"
   ]
  },
  {
   "cell_type": "code",
   "execution_count": 20,
   "id": "fbcaf060-0b0f-4d45-8fc7-add115c90a37",
   "metadata": {},
   "outputs": [
    {
     "data": {
      "text/plain": [
       "'ivaan'"
      ]
     },
     "execution_count": 20,
     "metadata": {},
     "output_type": "execute_result"
    }
   ],
   "source": [
    "#access element from end of the list:\n",
    "my_list[-1]"
   ]
  },
  {
   "cell_type": "code",
   "execution_count": 29,
   "id": "80d5d350-fd74-4df9-a6b5-b2fc44244484",
   "metadata": {},
   "outputs": [
    {
     "data": {
      "text/plain": [
       "['apple', 'banana', 'kiwi']"
      ]
     },
     "execution_count": 29,
     "metadata": {},
     "output_type": "execute_result"
    }
   ],
   "source": [
    "#modify>>Lists are mutable, so you can modify elements by assigning new values to specific indices or using list methods like insert() or append().\n",
    "#Example>>\n",
    "lis= [\"apple\", \"banana\", \"kiwi\"]\n",
    "lis"
   ]
  },
  {
   "cell_type": "code",
   "execution_count": 30,
   "id": "cffbf9ef-5e65-48e8-ba78-55c83fc4bb40",
   "metadata": {},
   "outputs": [],
   "source": [
    "#addition of element to list>>\n",
    "lis.append(\"orange\")"
   ]
  },
  {
   "cell_type": "code",
   "execution_count": 31,
   "id": "2a6f757f-2823-4da3-95b1-833a4f8bf711",
   "metadata": {},
   "outputs": [
    {
     "data": {
      "text/plain": [
       "['apple', 'banana', 'kiwi', 'orange']"
      ]
     },
     "execution_count": 31,
     "metadata": {},
     "output_type": "execute_result"
    }
   ],
   "source": [
    "lis"
   ]
  },
  {
   "cell_type": "code",
   "execution_count": 32,
   "id": "7e0bbb31-ef71-41f9-a158-27dfa3d9a7f7",
   "metadata": {},
   "outputs": [],
   "source": [
    "#modifying a element\n",
    "lis[0] = \"brinjal\"\n"
   ]
  },
  {
   "cell_type": "code",
   "execution_count": 33,
   "id": "f047f221-3a92-41a3-8bc7-af5e02a4bbd1",
   "metadata": {},
   "outputs": [
    {
     "data": {
      "text/plain": [
       "['brinjal', 'banana', 'kiwi', 'orange']"
      ]
     },
     "execution_count": 33,
     "metadata": {},
     "output_type": "execute_result"
    }
   ],
   "source": [
    "lis"
   ]
  },
  {
   "cell_type": "code",
   "execution_count": 34,
   "id": "1403771a-63f7-4bcd-b004-42c40df2e3d2",
   "metadata": {},
   "outputs": [],
   "source": [
    "#delete>>delete elements from a list using the del statement, remove()  or pop() method."
   ]
  },
  {
   "cell_type": "code",
   "execution_count": 35,
   "id": "4c6bdfc2-d2c2-492c-abe9-aabcdd8265e4",
   "metadata": {},
   "outputs": [],
   "source": [
    "lists = [\"ivaan\", \"smita\", \"swain\"]"
   ]
  },
  {
   "cell_type": "code",
   "execution_count": 36,
   "id": "10e9980b-2b54-430b-9993-fdea5fecc124",
   "metadata": {},
   "outputs": [
    {
     "data": {
      "text/plain": [
       "['ivaan', 'smita', 'swain']"
      ]
     },
     "execution_count": 36,
     "metadata": {},
     "output_type": "execute_result"
    }
   ],
   "source": [
    "lists"
   ]
  },
  {
   "cell_type": "code",
   "execution_count": 37,
   "id": "0f3088a1-2d38-4b3c-b2c9-5d81570f741c",
   "metadata": {},
   "outputs": [
    {
     "data": {
      "text/plain": [
       "['ivaan', 'swain']"
      ]
     },
     "execution_count": 37,
     "metadata": {},
     "output_type": "execute_result"
    }
   ],
   "source": [
    "#remove>> remove specific element from list\n",
    "lists.remove(\"smita\")\n",
    "lists"
   ]
  },
  {
   "cell_type": "code",
   "execution_count": 45,
   "id": "e1c188d2-f00a-43fc-a06b-ecae7e5c43a8",
   "metadata": {},
   "outputs": [
    {
     "data": {
      "text/plain": [
       "['A', 'B', 'C']"
      ]
     },
     "execution_count": 45,
     "metadata": {},
     "output_type": "execute_result"
    }
   ],
   "source": [
    "#pop>> remove last element\n",
    "name = [\"A\", \"B\", \"C\"]\n",
    "name"
   ]
  },
  {
   "cell_type": "code",
   "execution_count": 46,
   "id": "7a717783-b1e8-4775-91eb-e4b0ea8096bb",
   "metadata": {},
   "outputs": [
    {
     "data": {
      "text/plain": [
       "'C'"
      ]
     },
     "execution_count": 46,
     "metadata": {},
     "output_type": "execute_result"
    }
   ],
   "source": [
    "name.pop()"
   ]
  },
  {
   "cell_type": "code",
   "execution_count": 47,
   "id": "1391a74c-99a7-442c-8b98-f14f1183c0cc",
   "metadata": {},
   "outputs": [],
   "source": [
    "#delete>> it deletes the elements inside the list\n",
    "name.clear()"
   ]
  },
  {
   "cell_type": "code",
   "execution_count": 48,
   "id": "f45ea1ac-6baa-42e3-9669-d0f0d0a76adc",
   "metadata": {},
   "outputs": [
    {
     "data": {
      "text/plain": [
       "[]"
      ]
     },
     "execution_count": 48,
     "metadata": {},
     "output_type": "execute_result"
    }
   ],
   "source": [
    "name"
   ]
  },
  {
   "cell_type": "code",
   "execution_count": 53,
   "id": "eaef7efd-07bd-405e-ac74-81e6273672f8",
   "metadata": {},
   "outputs": [
    {
     "data": {
      "text/plain": [
       "('mobile', 'earphone', 'charger')"
      ]
     },
     "execution_count": 53,
     "metadata": {},
     "output_type": "execute_result"
    }
   ],
   "source": [
    "#Q4.Compare and contrast tuples and lists with examples?\n",
    "#Answer>>\n",
    "#Tuple>>\n",
    "#Immutable and cannot be changed, \n",
    "#Defined using () parentheses.\n",
    "#Typically used for fixed collections or read-only data.\n",
    "\n",
    "#List>>\n",
    "#Mutable and can be changed.\n",
    "#Defined using [] square brackets.\n",
    "#Used for dynamic collections where elements can be added, removed, or modified.\n",
    "#it cand store any type of data\n",
    "\n",
    "#Example of tuple:\n",
    "t = (\"mobile\", \"earphone\", \"charger\")\n",
    "t\n"
   ]
  },
  {
   "cell_type": "code",
   "execution_count": 55,
   "id": "2c465123-c40e-4f3f-bc0d-182f75b4ec78",
   "metadata": {},
   "outputs": [
    {
     "ename": "TypeError",
     "evalue": "'tuple' object does not support item assignment",
     "output_type": "error",
     "traceback": [
      "\u001b[0;31m---------------------------------------------------------------------------\u001b[0m",
      "\u001b[0;31mTypeError\u001b[0m                                 Traceback (most recent call last)",
      "Cell \u001b[0;32mIn[55], line 1\u001b[0m\n\u001b[0;32m----> 1\u001b[0m \u001b[43mt\u001b[49m\u001b[43m[\u001b[49m\u001b[38;5;241;43m1\u001b[39;49m\u001b[43m]\u001b[49m \u001b[38;5;241m=\u001b[39m \u001b[38;5;124m\"\u001b[39m\u001b[38;5;124mmicrophone\u001b[39m\u001b[38;5;124m\"\u001b[39m\n",
      "\u001b[0;31mTypeError\u001b[0m: 'tuple' object does not support item assignment"
     ]
    }
   ],
   "source": [
    "t[1] = \"microphone\""
   ]
  },
  {
   "cell_type": "code",
   "execution_count": 57,
   "id": "2b2d52bd-47df-4c00-bda9-35df2cf9482e",
   "metadata": {},
   "outputs": [
    {
     "data": {
      "text/plain": [
       "['orange', 'apple', 'banana', 1.1, 2]"
      ]
     },
     "execution_count": 57,
     "metadata": {},
     "output_type": "execute_result"
    }
   ],
   "source": [
    "#example of list>>\n",
    "fruit_bag = [ \"orange\", \"apple\", \"banana\", 1.1, 2]\n",
    "fruit_bag\n"
   ]
  },
  {
   "cell_type": "code",
   "execution_count": 58,
   "id": "ee41ad8d-24d4-4755-bc41-488f510e2f65",
   "metadata": {},
   "outputs": [
    {
     "data": {
      "text/plain": [
       "['kiwi', 'apple', 'banana', 1.1, 2]"
      ]
     },
     "execution_count": 58,
     "metadata": {},
     "output_type": "execute_result"
    }
   ],
   "source": [
    "fruit_bag[0]= \"kiwi\"\n",
    "fruit_bag"
   ]
  },
  {
   "cell_type": "code",
   "execution_count": 59,
   "id": "e29def6f-12ab-471e-a4a4-646aac84f47e",
   "metadata": {},
   "outputs": [
    {
     "data": {
      "text/plain": [
       "{'barsa', 'ivaan', 'smita'}"
      ]
     },
     "execution_count": 59,
     "metadata": {},
     "output_type": "execute_result"
    }
   ],
   "source": [
    "#Q5>> Describe the key features of sets and provide examples of their use?\n",
    "#Answer>>\n",
    "#Sets>> these are unordered collection of unique elements.\n",
    "#sets are defined with {} bracket.\n",
    "#Sets are removing duplicates from a list or collection of items.\n",
    "#Useful when you need to count distinct items in a dataset\n",
    "#Identify common elements between different datasets\n",
    "#sets are unordered and unique so there is no cocept on indexing here.\n",
    "#as sets are unordered so indexing cannt takes place.\n",
    "#sets has multiple data structure\n",
    "\n",
    "#example>>\n",
    "s= {\"smita\", \"barsa\", \"ivaan\", \"smita\", \"ivaan\"}\n",
    "s\n"
   ]
  },
  {
   "cell_type": "code",
   "execution_count": 60,
   "id": "49dd5bad-f813-44e0-9a5b-be6072116f8a",
   "metadata": {},
   "outputs": [
    {
     "data": {
      "text/plain": [
       "{'barsa', 'ivaan', 'smita', 'swain'}"
      ]
     },
     "execution_count": 60,
     "metadata": {},
     "output_type": "execute_result"
    }
   ],
   "source": [
    "#addition of element to set>>\n",
    "s.add(\"swain\")\n",
    "s"
   ]
  },
  {
   "cell_type": "code",
   "execution_count": 61,
   "id": "24090a5a-6ba0-4c23-b285-c76c2d5dd086",
   "metadata": {},
   "outputs": [
    {
     "data": {
      "text/plain": [
       "{'barsa', 'ivaan', 'smita'}"
      ]
     },
     "execution_count": 61,
     "metadata": {},
     "output_type": "execute_result"
    }
   ],
   "source": [
    "#remove an element from set>>\n",
    "s.remove(\"swain\")\n",
    "s"
   ]
  },
  {
   "cell_type": "code",
   "execution_count": 62,
   "id": "6546d3c3-2209-446d-9338-9ecf55fb244a",
   "metadata": {},
   "outputs": [
    {
     "data": {
      "text/plain": [
       "{'a', 'b', 'c', 'd', 's'}"
      ]
     },
     "execution_count": 62,
     "metadata": {},
     "output_type": "execute_result"
    }
   ],
   "source": [
    "#getting unique elements\n",
    "a= {\"a\", \"b\",\"b\",\"s\",\"a\",\"c\",\"s\",\"s\",\"d\"}\n",
    "a"
   ]
  },
  {
   "cell_type": "code",
   "execution_count": 67,
   "id": "f7096aa3-e6a5-45f3-85a3-8e5ebf9b71ca",
   "metadata": {},
   "outputs": [
    {
     "name": "stdout",
     "output_type": "stream",
     "text": [
      "1\n",
      "2\n",
      "3\n",
      "4\n",
      "5\n"
     ]
    }
   ],
   "source": [
    "#iterate a set\n",
    "set1 = {1, 2, 3, 4, 5}\n",
    "for elements in set1:\n",
    "    print(elements)"
   ]
  },
  {
   "cell_type": "code",
   "execution_count": 2,
   "id": "0c109141-8a71-4bf9-819c-7d10b498a266",
   "metadata": {},
   "outputs": [],
   "source": [
    "#sets are mutable>> it is not compulsory that it will add value at the end.\n",
    "a={\"a\", \"b\", \"c\", \"d\"}\n",
    "a.add(\"smita\")"
   ]
  },
  {
   "cell_type": "code",
   "execution_count": 3,
   "id": "cec40f29-0250-4c9d-8903-ea5f0aa39998",
   "metadata": {},
   "outputs": [
    {
     "data": {
      "text/plain": [
       "{'a', 'b', 'c', 'd', 'smita'}"
      ]
     },
     "execution_count": 3,
     "metadata": {},
     "output_type": "execute_result"
    }
   ],
   "source": [
    "a"
   ]
  },
  {
   "cell_type": "code",
   "execution_count": 4,
   "id": "303839eb-8470-4e45-bad1-534bc94aac5c",
   "metadata": {},
   "outputs": [
    {
     "data": {
      "text/plain": [
       "{'a', 'c', 'd', 'smita'}"
      ]
     },
     "execution_count": 4,
     "metadata": {},
     "output_type": "execute_result"
    }
   ],
   "source": [
    "#delete>> any thing /element can be deleted\n",
    "a.pop()\n",
    "a"
   ]
  },
  {
   "cell_type": "code",
   "execution_count": 6,
   "id": "09db7dc5-c63c-4db8-8c15-344e364b17d1",
   "metadata": {},
   "outputs": [
    {
     "data": {
      "text/plain": [
       "{5, 6, 'a', 'c', 'd', 'smita', 'swain'}"
      ]
     },
     "execution_count": 6,
     "metadata": {},
     "output_type": "execute_result"
    }
   ],
   "source": [
    "#update>> we can update integer and string inside the set\n",
    "a.update([\"swain\"] , [5, 6])\n",
    "a"
   ]
  },
  {
   "cell_type": "code",
   "execution_count": 7,
   "id": "104bac54-df5b-4456-8b27-e6d74fa5c678",
   "metadata": {},
   "outputs": [
    {
     "data": {
      "text/plain": [
       "set()"
      ]
     },
     "execution_count": 7,
     "metadata": {},
     "output_type": "execute_result"
    }
   ],
   "source": [
    "#clear>> it will clear the whole set\n",
    "a.clear()\n",
    "a"
   ]
  },
  {
   "cell_type": "code",
   "execution_count": 8,
   "id": "f88dda6f-724f-45a1-bd6c-a6aefe1669b7",
   "metadata": {},
   "outputs": [
    {
     "data": {
      "text/plain": [
       "{'agriculture', 'horticulture', 'plant science'}"
      ]
     },
     "execution_count": 8,
     "metadata": {},
     "output_type": "execute_result"
    }
   ],
   "source": [
    "#Sets Operations\n",
    "b1 = {\"agriculture\", \"horticulture\", \"plant science\"}\n",
    "b2 = {\"agriculture\", \"engineering\", \"meterology\"}\n",
    "b1"
   ]
  },
  {
   "cell_type": "code",
   "execution_count": 9,
   "id": "edd7192c-d6ec-470f-82e1-9599b92893ad",
   "metadata": {},
   "outputs": [
    {
     "data": {
      "text/plain": [
       "{'agriculture', 'engineering', 'meterology'}"
      ]
     },
     "execution_count": 9,
     "metadata": {},
     "output_type": "execute_result"
    }
   ],
   "source": [
    "b2"
   ]
  },
  {
   "cell_type": "code",
   "execution_count": 10,
   "id": "b31c59b6-cfb5-4d51-ac35-078a1cada852",
   "metadata": {},
   "outputs": [
    {
     "data": {
      "text/plain": [
       "{'agriculture', 'engineering', 'horticulture', 'meterology', 'plant science'}"
      ]
     },
     "execution_count": 10,
     "metadata": {},
     "output_type": "execute_result"
    }
   ],
   "source": [
    "#union\n",
    "b1|b2"
   ]
  },
  {
   "cell_type": "code",
   "execution_count": 11,
   "id": "a8c93e2c-6b59-491f-a394-230d71c5c761",
   "metadata": {},
   "outputs": [
    {
     "data": {
      "text/plain": [
       "{'agriculture'}"
      ]
     },
     "execution_count": 11,
     "metadata": {},
     "output_type": "execute_result"
    }
   ],
   "source": [
    "#intersection\n",
    "b1&b2"
   ]
  },
  {
   "cell_type": "code",
   "execution_count": 12,
   "id": "a18067b1-f1be-479d-8aa6-74aea5615e65",
   "metadata": {},
   "outputs": [
    {
     "data": {
      "text/plain": [
       "{'horticulture', 'plant science'}"
      ]
     },
     "execution_count": 12,
     "metadata": {},
     "output_type": "execute_result"
    }
   ],
   "source": [
    "#difference\n",
    "b1-b2"
   ]
  },
  {
   "cell_type": "code",
   "execution_count": 13,
   "id": "d39b763a-b574-4c48-ba3d-412b2f9ff7cd",
   "metadata": {},
   "outputs": [
    {
     "data": {
      "text/plain": [
       "{'engineering', 'horticulture', 'meterology', 'plant science'}"
      ]
     },
     "execution_count": 13,
     "metadata": {},
     "output_type": "execute_result"
    }
   ],
   "source": [
    "#symmetric difference\n",
    "b1^b2"
   ]
  },
  {
   "cell_type": "code",
   "execution_count": 15,
   "id": "70354a2d-5704-4163-a666-b81f262d12a7",
   "metadata": {},
   "outputs": [
    {
     "data": {
      "text/plain": [
       "frozenset({1, 2, 3, 4, 5, 6})"
      ]
     },
     "execution_count": 15,
     "metadata": {},
     "output_type": "execute_result"
    }
   ],
   "source": [
    "#frozen set>> this is immutable version of set. it cannot add or remove any new element\n",
    "my_fs = frozenset([1,2,2,3,4,4,4,5,5,6])\n",
    "my_fs"
   ]
  },
  {
   "cell_type": "code",
   "execution_count": 16,
   "id": "9620ec94-7741-4db1-a702-a50a8e1bfd4c",
   "metadata": {},
   "outputs": [
    {
     "data": {
      "text/plain": [
       "frozenset"
      ]
     },
     "execution_count": 16,
     "metadata": {},
     "output_type": "execute_result"
    }
   ],
   "source": [
    "type(my_fs)"
   ]
  },
  {
   "cell_type": "code",
   "execution_count": 18,
   "id": "23d26658-7547-495a-99e7-4cc6a394aaa4",
   "metadata": {},
   "outputs": [
    {
     "data": {
      "text/plain": [
       "('smita', 'swain', 1.1, 2, 6, True, False)"
      ]
     },
     "execution_count": 18,
     "metadata": {},
     "output_type": "execute_result"
    }
   ],
   "source": [
    "#Q6>>Discuss the use cases of tuples and sets in Python programming?\n",
    "#answer>>\n",
    "#use cases of tuples>>\n",
    "#immutable\n",
    "a1 = (\"smita\", \"swain\", 1.1, 2, 6, True, False)\n",
    "a1\n"
   ]
  },
  {
   "cell_type": "code",
   "execution_count": 20,
   "id": "ed9d256e-4896-4915-8a89-d8504285b55f",
   "metadata": {},
   "outputs": [
    {
     "ename": "TypeError",
     "evalue": "'tuple' object does not support item assignment",
     "output_type": "error",
     "traceback": [
      "\u001b[0;31m---------------------------------------------------------------------------\u001b[0m",
      "\u001b[0;31mTypeError\u001b[0m                                 Traceback (most recent call last)",
      "Cell \u001b[0;32mIn[20], line 1\u001b[0m\n\u001b[0;32m----> 1\u001b[0m \u001b[43ma1\u001b[49m\u001b[43m[\u001b[49m\u001b[38;5;241;43m3\u001b[39;49m\u001b[43m]\u001b[49m\u001b[38;5;241m=\u001b[39m \u001b[38;5;241m8\u001b[39m\n",
      "\u001b[0;31mTypeError\u001b[0m: 'tuple' object does not support item assignment"
     ]
    }
   ],
   "source": [
    "a1[3]= 8 #hence its proofs that tuples are immutable"
   ]
  },
  {
   "cell_type": "code",
   "execution_count": 21,
   "id": "f031c7bc-f5de-45c2-a529-cb09478776b3",
   "metadata": {},
   "outputs": [
    {
     "data": {
      "text/plain": [
       "3"
      ]
     },
     "execution_count": 21,
     "metadata": {},
     "output_type": "execute_result"
    }
   ],
   "source": [
    "#count>> it gives the number of elements present\n",
    "a2 = (\"smita\", \"smita\", 1, 1, 1, 2, 5, 5, 2, 2, \"smita\")\n",
    "a2.count(\"smita\")"
   ]
  },
  {
   "cell_type": "code",
   "execution_count": 27,
   "id": "e2b7a401-595c-452a-a409-b432c3436af2",
   "metadata": {},
   "outputs": [
    {
     "name": "stdout",
     "output_type": "stream",
     "text": [
      "('smita', 'smita', 1, 1, 1, 2, 5, 5, 2, 2, 'smita', 'smita', 'smita', 1, 1, 1, 2, 5, 5, 2, 2, 'smita')\n"
     ]
    }
   ],
   "source": [
    "#repeat>>\n",
    "print(a2*2)"
   ]
  },
  {
   "cell_type": "code",
   "execution_count": 28,
   "id": "24bad133-d971-44bb-9c9b-cc0c6daadb99",
   "metadata": {},
   "outputs": [
    {
     "data": {
      "text/plain": [
       "('smita', 'smita', 1, 1, 1)"
      ]
     },
     "execution_count": 28,
     "metadata": {},
     "output_type": "execute_result"
    }
   ],
   "source": [
    "#slicing the element>>\n",
    "a2[0:5]"
   ]
  },
  {
   "cell_type": "code",
   "execution_count": 29,
   "id": "1b12b866-9fa2-451e-8a1a-fd62f9b29f2b",
   "metadata": {},
   "outputs": [
    {
     "data": {
      "text/plain": [
       "('smita', 2, 2, 5, 5, 2, 1, 1, 1, 'smita', 'smita')"
      ]
     },
     "execution_count": 29,
     "metadata": {},
     "output_type": "execute_result"
    }
   ],
   "source": [
    "#reverse>> in this case ending element will be the starting element\n",
    "a2[::-1]"
   ]
  },
  {
   "cell_type": "code",
   "execution_count": 30,
   "id": "3deebbc9-811c-4bb4-a52f-371bed81f7ac",
   "metadata": {},
   "outputs": [
    {
     "name": "stdout",
     "output_type": "stream",
     "text": [
      "smita\n",
      "smita\n",
      "1\n",
      "1\n",
      "1\n",
      "2\n",
      "5\n",
      "5\n",
      "2\n",
      "2\n",
      "smita\n"
     ]
    }
   ],
   "source": [
    "#iteration\n",
    "for i in a2:\n",
    "    print (i)"
   ]
  },
  {
   "cell_type": "code",
   "execution_count": 36,
   "id": "be99c785-2df8-40f1-8da8-81bc64d98a56",
   "metadata": {},
   "outputs": [
    {
     "data": {
      "text/plain": [
       "100"
      ]
     },
     "execution_count": 36,
     "metadata": {},
     "output_type": "execute_result"
    }
   ],
   "source": [
    "#maximum value>> gives highest number\n",
    "c1= (5,6,25,80,100)\n",
    "max(c1)"
   ]
  },
  {
   "cell_type": "code",
   "execution_count": 37,
   "id": "d1eccbdb-b6f6-429f-9770-b23c078e34c0",
   "metadata": {},
   "outputs": [
    {
     "data": {
      "text/plain": [
       "5"
      ]
     },
     "execution_count": 37,
     "metadata": {},
     "output_type": "execute_result"
    }
   ],
   "source": [
    "#minimum value>> gives lowest number\n",
    "min(c1)"
   ]
  },
  {
   "cell_type": "code",
   "execution_count": 39,
   "id": "86ae91a6-207a-47e7-86bb-eb4fe90aa752",
   "metadata": {},
   "outputs": [],
   "source": [
    "#nested tuple>>it add both tuples inside one\n",
    "d1= (1,2,3,4)\n",
    "d2= (200,300)\n",
    "d3= (d1,d2)"
   ]
  },
  {
   "cell_type": "code",
   "execution_count": 40,
   "id": "7eeac651-937b-49d1-a23b-1d4076164b8d",
   "metadata": {},
   "outputs": [
    {
     "data": {
      "text/plain": [
       "((1, 2, 3, 4), (200, 300))"
      ]
     },
     "execution_count": 40,
     "metadata": {},
     "output_type": "execute_result"
    }
   ],
   "source": [
    "d3"
   ]
  },
  {
   "cell_type": "code",
   "execution_count": 41,
   "id": "e937b36f-9f52-4307-8cb7-53aa027020db",
   "metadata": {},
   "outputs": [
    {
     "data": {
      "text/plain": [
       "4"
      ]
     },
     "execution_count": 41,
     "metadata": {},
     "output_type": "execute_result"
    }
   ],
   "source": [
    "#length>> number of elements present\n",
    "len(d1)"
   ]
  },
  {
   "cell_type": "code",
   "execution_count": 42,
   "id": "88da4565-7cd2-4ab9-81bf-83af38807b3d",
   "metadata": {},
   "outputs": [
    {
     "data": {
      "text/plain": [
       "True"
      ]
     },
     "execution_count": 42,
     "metadata": {},
     "output_type": "execute_result"
    }
   ],
   "source": [
    "#membership>> to check whether the elements are present or not.\n",
    "1 in d1"
   ]
  },
  {
   "cell_type": "code",
   "execution_count": 43,
   "id": "dc39dae9-4bf1-4b10-846e-b48935f8b5ef",
   "metadata": {},
   "outputs": [
    {
     "data": {
      "text/plain": [
       "(1, 2, 3, 4, 200, 300)"
      ]
     },
     "execution_count": 43,
     "metadata": {},
     "output_type": "execute_result"
    }
   ],
   "source": [
    "#combining >> it combines both the tuple>>\n",
    "d1+d2"
   ]
  },
  {
   "cell_type": "code",
   "execution_count": 48,
   "id": "f9057cbc-0b3e-49c6-bc35-62f04cd9fc35",
   "metadata": {},
   "outputs": [
    {
     "data": {
      "text/plain": [
       "[1, 1, 2, 3, 'smita', 'ivaan']"
      ]
     },
     "execution_count": 48,
     "metadata": {},
     "output_type": "execute_result"
    }
   ],
   "source": [
    "#use case of sets>>\n",
    "#convert list to set\n",
    "list1 = [1, 1, 2, 3, \"smita\", \"ivaan\"]\n",
    "list1\n"
   ]
  },
  {
   "cell_type": "code",
   "execution_count": 46,
   "id": "857a7fc3-9044-4c62-b03e-f99e54437cc9",
   "metadata": {},
   "outputs": [
    {
     "data": {
      "text/plain": [
       "{1, 2, 3, 'ivaan', 'smita'}"
      ]
     },
     "execution_count": 46,
     "metadata": {},
     "output_type": "execute_result"
    }
   ],
   "source": [
    "s=set(list1)\n",
    "s"
   ]
  },
  {
   "cell_type": "code",
   "execution_count": 47,
   "id": "d5471311-c13f-4d6d-8c80-12724d3fe251",
   "metadata": {},
   "outputs": [
    {
     "data": {
      "text/plain": [
       "[1, 2, 3, 'smita', 'ivaan']"
      ]
     },
     "execution_count": 47,
     "metadata": {},
     "output_type": "execute_result"
    }
   ],
   "source": [
    "#convert set to list\n",
    "list1=list(s)\n",
    "list1"
   ]
  },
  {
   "cell_type": "code",
   "execution_count": 49,
   "id": "57461ebb-2515-4558-9015-ccc1aff7f957",
   "metadata": {},
   "outputs": [
    {
     "ename": "TypeError",
     "evalue": "'set' object is not subscriptable",
     "output_type": "error",
     "traceback": [
      "\u001b[0;31m---------------------------------------------------------------------------\u001b[0m",
      "\u001b[0;31mTypeError\u001b[0m                                 Traceback (most recent call last)",
      "Cell \u001b[0;32mIn[49], line 2\u001b[0m\n\u001b[1;32m      1\u001b[0m \u001b[38;5;66;03m#index>> as it take unique element and unordered so indexing cannot takes place\u001b[39;00m\n\u001b[0;32m----> 2\u001b[0m \u001b[43ms\u001b[49m\u001b[43m[\u001b[49m\u001b[38;5;241;43m0\u001b[39;49m\u001b[43m]\u001b[49m\n",
      "\u001b[0;31mTypeError\u001b[0m: 'set' object is not subscriptable"
     ]
    }
   ],
   "source": [
    "#index>> as it take unique element and unordered so indexing cannot takes place\n",
    "s[0]"
   ]
  },
  {
   "cell_type": "code",
   "execution_count": 50,
   "id": "5d7a3766-c0f5-4bfa-b0c7-8835988c536c",
   "metadata": {},
   "outputs": [
    {
     "data": {
      "text/plain": [
       "{1, 2, 5, 6}"
      ]
     },
     "execution_count": 50,
     "metadata": {},
     "output_type": "execute_result"
    }
   ],
   "source": [
    "#set into set>> it will throw error \n",
    "s={1,1,2,5,6}\n",
    "s"
   ]
  },
  {
   "cell_type": "code",
   "execution_count": 51,
   "id": "43ff5f52-2f7c-4cff-9b5b-b6e776e7c33e",
   "metadata": {},
   "outputs": [
    {
     "ename": "TypeError",
     "evalue": "unhashable type: 'set'",
     "output_type": "error",
     "traceback": [
      "\u001b[0;31m---------------------------------------------------------------------------\u001b[0m",
      "\u001b[0;31mTypeError\u001b[0m                                 Traceback (most recent call last)",
      "Cell \u001b[0;32mIn[51], line 1\u001b[0m\n\u001b[0;32m----> 1\u001b[0m s\u001b[38;5;241m=\u001b[39m{\u001b[38;5;241m1\u001b[39m,\u001b[38;5;241m1\u001b[39m,\u001b[38;5;241m2\u001b[39m,\u001b[38;5;241m5\u001b[39m,\u001b[38;5;241m6\u001b[39m,{\u001b[38;5;241m6\u001b[39m,\u001b[38;5;241m7\u001b[39m,\u001b[38;5;241m8\u001b[39m}}\n",
      "\u001b[0;31mTypeError\u001b[0m: unhashable type: 'set'"
     ]
    }
   ],
   "source": [
    "s={1,1,2,5,6,{6,7,8}}"
   ]
  },
  {
   "cell_type": "code",
   "execution_count": 52,
   "id": "7c4f9fd7-5420-41f4-81c0-3cfdc6fc3d9b",
   "metadata": {},
   "outputs": [
    {
     "data": {
      "text/plain": [
       "{(6, 7, 8), 1, 2, 5, 6}"
      ]
     },
     "execution_count": 52,
     "metadata": {},
     "output_type": "execute_result"
    }
   ],
   "source": [
    "#list into set>> it will throw error\n",
    "#tuplre inside set>> as tuple is immutable so it will not throw error\n",
    "s={1,1,2,5,6,(6,7,8)}\n",
    "s"
   ]
  },
  {
   "cell_type": "code",
   "execution_count": 53,
   "id": "777e8f31-d37d-479d-81a0-afe1a4a06c05",
   "metadata": {},
   "outputs": [
    {
     "name": "stdout",
     "output_type": "stream",
     "text": [
      "1\n",
      "2\n",
      "6\n",
      "7\n"
     ]
    }
   ],
   "source": [
    "#iterate the value\n",
    "s={1,2,6,7}\n",
    "for i in s:\n",
    "    print (i)"
   ]
  },
  {
   "cell_type": "code",
   "execution_count": 54,
   "id": "343bf0e5-fdde-4dc9-95aa-173348afb580",
   "metadata": {},
   "outputs": [],
   "source": [
    "#mutable>>\n",
    "s.add(25)"
   ]
  },
  {
   "cell_type": "code",
   "execution_count": 55,
   "id": "1db002d5-df95-43be-b64c-f28056e8e6a1",
   "metadata": {},
   "outputs": [
    {
     "data": {
      "text/plain": [
       "{1, 2, 6, 7, 25}"
      ]
     },
     "execution_count": 55,
     "metadata": {},
     "output_type": "execute_result"
    }
   ],
   "source": [
    "s"
   ]
  },
  {
   "cell_type": "code",
   "execution_count": 56,
   "id": "4d0a5dbe-109b-48fa-91b5-2a86802e7c30",
   "metadata": {},
   "outputs": [
    {
     "data": {
      "text/plain": [
       "1"
      ]
     },
     "execution_count": 56,
     "metadata": {},
     "output_type": "execute_result"
    }
   ],
   "source": [
    "#delete>>\n",
    "s.pop()"
   ]
  },
  {
   "cell_type": "code",
   "execution_count": 57,
   "id": "0b506739-0e81-49e1-89bb-0efba94eb633",
   "metadata": {},
   "outputs": [
    {
     "data": {
      "text/plain": [
       "{2, 6, 7, 25}"
      ]
     },
     "execution_count": 57,
     "metadata": {},
     "output_type": "execute_result"
    }
   ],
   "source": [
    "s"
   ]
  },
  {
   "cell_type": "code",
   "execution_count": 58,
   "id": "4de5945b-e030-49dd-9195-973241577546",
   "metadata": {},
   "outputs": [
    {
     "data": {
      "text/plain": [
       "{2, 7, 25}"
      ]
     },
     "execution_count": 58,
     "metadata": {},
     "output_type": "execute_result"
    }
   ],
   "source": [
    "#remove>>\n",
    "s.remove(6)\n",
    "s"
   ]
  },
  {
   "cell_type": "code",
   "execution_count": 60,
   "id": "10ba54b2-b45a-4d1f-975d-7f55667ced30",
   "metadata": {},
   "outputs": [
    {
     "data": {
      "text/plain": [
       "{2, 25, 7, 'smita'}"
      ]
     },
     "execution_count": 60,
     "metadata": {},
     "output_type": "execute_result"
    }
   ],
   "source": [
    "#update \n",
    "s.update([\"smita\"])\n",
    "s"
   ]
  },
  {
   "cell_type": "code",
   "execution_count": 61,
   "id": "7ce24e06-e8c0-47a2-bd8f-497731f52311",
   "metadata": {},
   "outputs": [
    {
     "data": {
      "text/plain": [
       "{2, 7, 'smita'}"
      ]
     },
     "execution_count": 61,
     "metadata": {},
     "output_type": "execute_result"
    }
   ],
   "source": [
    "#remove\n",
    "s.remove(25)\n",
    "s"
   ]
  },
  {
   "cell_type": "code",
   "execution_count": 62,
   "id": "92532123-80ac-44ec-a3c6-f887ba1cbecf",
   "metadata": {},
   "outputs": [
    {
     "data": {
      "text/plain": [
       "set()"
      ]
     },
     "execution_count": 62,
     "metadata": {},
     "output_type": "execute_result"
    }
   ],
   "source": [
    "#clear\n",
    "s.clear()\n",
    "s"
   ]
  },
  {
   "cell_type": "code",
   "execution_count": 63,
   "id": "0405b527-2169-4ae6-99c1-725c11b2b8f5",
   "metadata": {},
   "outputs": [
    {
     "data": {
      "text/plain": [
       "{'name': 'smita', 'rollno': '2525', 'session': 'A'}"
      ]
     },
     "execution_count": 63,
     "metadata": {},
     "output_type": "execute_result"
    }
   ],
   "source": [
    "#Q7>> Describe how to add & modify and delete items in a dictionary with examples?\n",
    "#answer\n",
    "#addition\n",
    "#To add a new item to a dictionary, you simply assign a value to a new key or an existing key\n",
    "d= {\"name\": \"smita\", \"rollno\": \"2525\", \"session\": \"A\"}\n",
    "d"
   ]
  },
  {
   "cell_type": "code",
   "execution_count": 65,
   "id": "bbe6e5ff-6385-41df-8bd8-578e178f808b",
   "metadata": {},
   "outputs": [
    {
     "data": {
      "text/plain": [
       "{'name': 'smita', 'rollno': '2525', 'session': 'A', 'school': 'abc'}"
      ]
     },
     "execution_count": 65,
     "metadata": {},
     "output_type": "execute_result"
    }
   ],
   "source": [
    "d[\"school\"]= \"abc\"\n",
    "d"
   ]
  },
  {
   "cell_type": "code",
   "execution_count": 66,
   "id": "754b9d9a-8285-4eb4-850c-5ca48204bea9",
   "metadata": {},
   "outputs": [
    {
     "name": "stdout",
     "output_type": "stream",
     "text": [
      "{'name': 'smita', 'rollno': 3232, 'session': 'A', 'school': 'abc'}\n"
     ]
    }
   ],
   "source": [
    "#modify>>To modify the value of an existing item in a dictionary, you can reassign the value to the corresponding key\n",
    "d[\"rollno\"] = 3232\n",
    "print(d)"
   ]
  },
  {
   "cell_type": "code",
   "execution_count": 67,
   "id": "ebd1c0c5-3682-4443-aef2-d919a14c71d5",
   "metadata": {},
   "outputs": [
    {
     "data": {
      "text/plain": [
       "{'name': 'smita', 'rollno': 3232, 'session': 'A'}"
      ]
     },
     "execution_count": 67,
     "metadata": {},
     "output_type": "execute_result"
    }
   ],
   "source": [
    "#delete>>del is used to delete a key value pair\n",
    "del d[\"school\"]\n",
    "d"
   ]
  },
  {
   "cell_type": "code",
   "execution_count": 68,
   "id": "d4d9b3be-8eef-44ed-a137-bbaa5690efdc",
   "metadata": {},
   "outputs": [
    {
     "ename": "TypeError",
     "evalue": "unhashable type: 'list'",
     "output_type": "error",
     "traceback": [
      "\u001b[0;31m---------------------------------------------------------------------------\u001b[0m",
      "\u001b[0;31mTypeError\u001b[0m                                 Traceback (most recent call last)",
      "Cell \u001b[0;32mIn[68], line 10\u001b[0m\n\u001b[1;32m      1\u001b[0m \u001b[38;5;66;03m#Q8>> Discuss the importance of dictionary keys being immutable and provide example?\u001b[39;00m\n\u001b[1;32m      2\u001b[0m \u001b[38;5;66;03m#answer>>\u001b[39;00m\n\u001b[1;32m      3\u001b[0m \u001b[38;5;66;03m#The immutability of dictionary keys in Python is crucial because it ensures the integrity and reliability of the dictionary structure.\u001b[39;00m\n\u001b[0;32m   (...)\u001b[0m\n\u001b[1;32m      8\u001b[0m \u001b[38;5;66;03m#examples\u001b[39;00m\n\u001b[1;32m      9\u001b[0m \u001b[38;5;66;03m#list cannot be key>>\u001b[39;00m\n\u001b[0;32m---> 10\u001b[0m d\u001b[38;5;241m=\u001b[39m {[\u001b[38;5;241m1\u001b[39m,\u001b[38;5;241m2\u001b[39m,\u001b[38;5;241m3\u001b[39m]: \u001b[38;5;124m\"\u001b[39m\u001b[38;5;124mivaan\u001b[39m\u001b[38;5;124m\"\u001b[39m}\n\u001b[1;32m     11\u001b[0m d\n",
      "\u001b[0;31mTypeError\u001b[0m: unhashable type: 'list'"
     ]
    }
   ],
   "source": [
    "#Q8>> Discuss the importance of dictionary keys being immutable and provide example?\n",
    "#answer>>\n",
    "#The immutability of dictionary keys in Python is crucial because it ensures the integrity and reliability of the dictionary structure.\n",
    "#Hashability for Efficient Lookup\n",
    "#Preservation of Dictionary Integrity\n",
    "#Consistency in Dictionary Operations\n",
    "#only string and numbers can be used as a key of a dictionary\n",
    "#examples\n",
    "#list cannot be key>>\n",
    "d= {[1,2,3]: \"ivaan\"}\n",
    "d\n"
   ]
  },
  {
   "cell_type": "code",
   "execution_count": 69,
   "id": "b4377b11-c77f-4836-91f7-a1a45be44381",
   "metadata": {},
   "outputs": [
    {
     "ename": "TypeError",
     "evalue": "unhashable type: 'set'",
     "output_type": "error",
     "traceback": [
      "\u001b[0;31m---------------------------------------------------------------------------\u001b[0m",
      "\u001b[0;31mTypeError\u001b[0m                                 Traceback (most recent call last)",
      "Cell \u001b[0;32mIn[69], line 2\u001b[0m\n\u001b[1;32m      1\u001b[0m \u001b[38;5;66;03m#set cannot be key>>\u001b[39;00m\n\u001b[0;32m----> 2\u001b[0m d\u001b[38;5;241m=\u001b[39m {{\u001b[38;5;241m1\u001b[39m,\u001b[38;5;241m2\u001b[39m,\u001b[38;5;241m3\u001b[39m}: \u001b[38;5;124m\"\u001b[39m\u001b[38;5;124mivaan\u001b[39m\u001b[38;5;124m\"\u001b[39m}\n\u001b[1;32m      3\u001b[0m d\n",
      "\u001b[0;31mTypeError\u001b[0m: unhashable type: 'set'"
     ]
    }
   ],
   "source": [
    "#set cannot be key>>\n",
    "d= {{1,2,3}: \"ivaan\"}\n",
    "d\n"
   ]
  },
  {
   "cell_type": "code",
   "execution_count": 70,
   "id": "c8181dc1-1a89-4baf-b8fb-d260fc3a93a6",
   "metadata": {},
   "outputs": [
    {
     "ename": "SyntaxError",
     "evalue": "invalid syntax (2241952094.py, line 2)",
     "output_type": "error",
     "traceback": [
      "\u001b[0;36m  Cell \u001b[0;32mIn[70], line 2\u001b[0;36m\u001b[0m\n\u001b[0;31m    d={$: \"ivaan\"}\u001b[0m\n\u001b[0m       ^\u001b[0m\n\u001b[0;31mSyntaxError\u001b[0m\u001b[0;31m:\u001b[0m invalid syntax\n"
     ]
    }
   ],
   "source": [
    "#special character cannot be key\n",
    "d={$: \"ivaan\"}"
   ]
  }
 ],
 "metadata": {
  "kernelspec": {
   "display_name": "Python 3 (ipykernel)",
   "language": "python",
   "name": "python3"
  },
  "language_info": {
   "codemirror_mode": {
    "name": "ipython",
    "version": 3
   },
   "file_extension": ".py",
   "mimetype": "text/x-python",
   "name": "python",
   "nbconvert_exporter": "python",
   "pygments_lexer": "ipython3",
   "version": "3.10.8"
  }
 },
 "nbformat": 4,
 "nbformat_minor": 5
}
