{
 "cells": [
  {
   "cell_type": "code",
   "execution_count": 1,
   "id": "165d8fbb-6457-4af0-bbd0-4518e5d8273c",
   "metadata": {},
   "outputs": [],
   "source": [
    "lis=[[1,2,3],[4,5,6],[7,8,9]]"
   ]
  },
  {
   "cell_type": "code",
   "execution_count": 2,
   "id": "bf6e4bcf-eb16-43a0-8a56-97fc3d307879",
   "metadata": {},
   "outputs": [
    {
     "data": {
      "text/plain": [
       "[[1, 2, 3], [4, 5, 6], [7, 8, 9]]"
      ]
     },
     "execution_count": 2,
     "metadata": {},
     "output_type": "execute_result"
    }
   ],
   "source": [
    "lis"
   ]
  },
  {
   "cell_type": "code",
   "execution_count": 3,
   "id": "966b3da2-1a4d-4fab-9820-d1cd5effe40b",
   "metadata": {},
   "outputs": [
    {
     "data": {
      "text/plain": [
       "list"
      ]
     },
     "execution_count": 3,
     "metadata": {},
     "output_type": "execute_result"
    }
   ],
   "source": [
    "type(lis)"
   ]
  },
  {
   "cell_type": "code",
   "execution_count": 4,
   "id": "079c592d-a2d4-43ed-90e1-199aab5a4aa9",
   "metadata": {},
   "outputs": [
    {
     "data": {
      "text/plain": [
       "5"
      ]
     },
     "execution_count": 4,
     "metadata": {},
     "output_type": "execute_result"
    }
   ],
   "source": [
    "lis[1][1]"
   ]
  },
  {
   "cell_type": "code",
   "execution_count": 26,
   "id": "f19766e4-6fa4-4bea-a1dc-194482e4d5ad",
   "metadata": {},
   "outputs": [],
   "source": [
    "a=[\"smita\", \"ivaan\", 1, 2, 3, True, False]"
   ]
  },
  {
   "cell_type": "code",
   "execution_count": 27,
   "id": "c8b4f170-c0f9-4544-a364-0d387cfeb9a5",
   "metadata": {},
   "outputs": [
    {
     "data": {
      "text/plain": [
       "['smita', 'ivaan', 1, 2, 3, True, False]"
      ]
     },
     "execution_count": 27,
     "metadata": {},
     "output_type": "execute_result"
    }
   ],
   "source": [
    "a"
   ]
  },
  {
   "cell_type": "code",
   "execution_count": 28,
   "id": "8e7909fc-a515-43aa-b19e-7461f25c0094",
   "metadata": {},
   "outputs": [],
   "source": [
    "a[0]= \"swain\""
   ]
  },
  {
   "cell_type": "code",
   "execution_count": 29,
   "id": "f8938202-4b2f-4549-a755-cbc40112bc7d",
   "metadata": {},
   "outputs": [
    {
     "data": {
      "text/plain": [
       "['swain', 'ivaan', 1, 2, 3, True, False]"
      ]
     },
     "execution_count": 29,
     "metadata": {},
     "output_type": "execute_result"
    }
   ],
   "source": [
    "a"
   ]
  },
  {
   "cell_type": "code",
   "execution_count": 31,
   "id": "e3484271-f8c5-4f9e-96e2-22796f8474a9",
   "metadata": {},
   "outputs": [
    {
     "name": "stdout",
     "output_type": "stream",
     "text": [
      "swain ivaan 1 2 3 True False "
     ]
    }
   ],
   "source": [
    "for item in a:\n",
    "    print(item, end=\" \")"
   ]
  },
  {
   "cell_type": "code",
   "execution_count": 32,
   "id": "d0c08a10-1ca5-450d-9db8-fe057955d92e",
   "metadata": {},
   "outputs": [],
   "source": [
    "t=(\"smita\", \"ivaan\", \"Ajay\" )"
   ]
  },
  {
   "cell_type": "code",
   "execution_count": 34,
   "id": "3472316b-9f49-4064-b10e-8fcb6de42f41",
   "metadata": {},
   "outputs": [
    {
     "data": {
      "text/plain": [
       "('smita', 'ivaan', 'Ajay')"
      ]
     },
     "execution_count": 34,
     "metadata": {},
     "output_type": "execute_result"
    }
   ],
   "source": [
    "t"
   ]
  },
  {
   "cell_type": "code",
   "execution_count": 35,
   "id": "ad68ad7c-571d-410a-a278-3f13188948f8",
   "metadata": {},
   "outputs": [
    {
     "ename": "TypeError",
     "evalue": "'tuple' object does not support item assignment",
     "output_type": "error",
     "traceback": [
      "\u001b[0;31m---------------------------------------------------------------------------\u001b[0m",
      "\u001b[0;31mTypeError\u001b[0m                                 Traceback (most recent call last)",
      "Cell \u001b[0;32mIn[35], line 1\u001b[0m\n\u001b[0;32m----> 1\u001b[0m \u001b[43mt\u001b[49m\u001b[43m[\u001b[49m\u001b[38;5;241;43m2\u001b[39;49m\u001b[43m]\u001b[49m \u001b[38;5;241m=\u001b[39m \u001b[38;5;124m\"\u001b[39m\u001b[38;5;124mswain\u001b[39m\u001b[38;5;124m\"\u001b[39m\n",
      "\u001b[0;31mTypeError\u001b[0m: 'tuple' object does not support item assignment"
     ]
    }
   ],
   "source": [
    "t[2] = \"swain\""
   ]
  },
  {
   "cell_type": "code",
   "execution_count": 36,
   "id": "13733cd4-b301-421b-bd2e-a358ebbac057",
   "metadata": {},
   "outputs": [],
   "source": [
    "a=(\"1\", \"2\")\n",
    "b=(\"3\", \"4\")\n",
    "mix = (a, b)"
   ]
  },
  {
   "cell_type": "code",
   "execution_count": 37,
   "id": "da067eb4-3ea8-4301-80f4-b0fd77bfec6c",
   "metadata": {},
   "outputs": [
    {
     "data": {
      "text/plain": [
       "(('1', '2'), ('3', '4'))"
      ]
     },
     "execution_count": 37,
     "metadata": {},
     "output_type": "execute_result"
    }
   ],
   "source": [
    "mix"
   ]
  },
  {
   "cell_type": "code",
   "execution_count": 38,
   "id": "00180724-703f-44de-b9db-b9ce9cadf0d3",
   "metadata": {},
   "outputs": [
    {
     "data": {
      "text/plain": [
       "tuple"
      ]
     },
     "execution_count": 38,
     "metadata": {},
     "output_type": "execute_result"
    }
   ],
   "source": [
    "type(mix)"
   ]
  },
  {
   "cell_type": "code",
   "execution_count": 39,
   "id": "4e5b8217-afde-4811-9ffb-d428a33220cd",
   "metadata": {},
   "outputs": [
    {
     "name": "stdout",
     "output_type": "stream",
     "text": [
      "1\n",
      "2\n",
      "3\n",
      "4\n"
     ]
    }
   ],
   "source": [
    "for num in mix:\n",
    "    for mix in num:\n",
    "        print(mix)"
   ]
  },
  {
   "cell_type": "code",
   "execution_count": 40,
   "id": "b6207672-1cca-46b1-9112-419b40fbddf8",
   "metadata": {},
   "outputs": [],
   "source": [
    "s={\"smita\", \"swain\", \"smita\"}"
   ]
  },
  {
   "cell_type": "code",
   "execution_count": 41,
   "id": "baa23977-05e1-4798-8f1f-2e5ac3a1534b",
   "metadata": {},
   "outputs": [
    {
     "data": {
      "text/plain": [
       "{'smita', 'swain'}"
      ]
     },
     "execution_count": 41,
     "metadata": {},
     "output_type": "execute_result"
    }
   ],
   "source": [
    "s"
   ]
  },
  {
   "cell_type": "code",
   "execution_count": 42,
   "id": "19ce683d-6b04-4534-8ee7-975256987234",
   "metadata": {},
   "outputs": [],
   "source": [
    "s.add(\"ivaan\")"
   ]
  },
  {
   "cell_type": "code",
   "execution_count": 43,
   "id": "83715364-ee4a-43c8-b317-d3d20bcc78c5",
   "metadata": {},
   "outputs": [
    {
     "data": {
      "text/plain": [
       "{'ivaan', 'smita', 'swain'}"
      ]
     },
     "execution_count": 43,
     "metadata": {},
     "output_type": "execute_result"
    }
   ],
   "source": [
    "s"
   ]
  },
  {
   "cell_type": "code",
   "execution_count": 44,
   "id": "5d7e4d38-37e5-41ca-979e-77d65177c2a9",
   "metadata": {},
   "outputs": [],
   "source": [
    "s.remove(\"ivaan\")"
   ]
  },
  {
   "cell_type": "code",
   "execution_count": 45,
   "id": "22299ffc-974d-4e33-80c9-dc5da2a5552e",
   "metadata": {},
   "outputs": [
    {
     "data": {
      "text/plain": [
       "{'smita', 'swain'}"
      ]
     },
     "execution_count": 45,
     "metadata": {},
     "output_type": "execute_result"
    }
   ],
   "source": [
    "s"
   ]
  },
  {
   "cell_type": "code",
   "execution_count": 1,
   "id": "c602b448-8ab5-41ec-9e31-1da1f115ec4a",
   "metadata": {},
   "outputs": [],
   "source": [
    "string1 = \"I am a good girl\""
   ]
  },
  {
   "cell_type": "code",
   "execution_count": 2,
   "id": "a393b4cc-ebcc-4489-a520-ed05eff64e83",
   "metadata": {},
   "outputs": [
    {
     "data": {
      "text/plain": [
       "'I am a good girl'"
      ]
     },
     "execution_count": 2,
     "metadata": {},
     "output_type": "execute_result"
    }
   ],
   "source": [
    "string1"
   ]
  },
  {
   "cell_type": "code",
   "execution_count": 4,
   "id": "1eed75b8-c0ba-4d1f-aa55-c4668991f4da",
   "metadata": {},
   "outputs": [
    {
     "data": {
      "text/plain": [
       "'I am a good '"
      ]
     },
     "execution_count": 4,
     "metadata": {},
     "output_type": "execute_result"
    }
   ],
   "source": [
    "string1[:12]"
   ]
  },
  {
   "cell_type": "code",
   "execution_count": 5,
   "id": "6f7a9361-da5b-46db-9d0e-7c1a6b8c1941",
   "metadata": {},
   "outputs": [
    {
     "data": {
      "text/plain": [
       "'girl'"
      ]
     },
     "execution_count": 5,
     "metadata": {},
     "output_type": "execute_result"
    }
   ],
   "source": [
    "string1[12:]"
   ]
  },
  {
   "cell_type": "code",
   "execution_count": 6,
   "id": "9c16684d-6161-4342-a77b-ef274d3da9c4",
   "metadata": {},
   "outputs": [
    {
     "data": {
      "text/plain": [
       "'I am a trainer'"
      ]
     },
     "execution_count": 6,
     "metadata": {},
     "output_type": "execute_result"
    }
   ],
   "source": [
    "s = \"I am a student\"\n",
    "s.replace(\"student\", \"trainer\")"
   ]
  },
  {
   "cell_type": "code",
   "execution_count": null,
   "id": "81dc4746-c772-4b89-b163-e04e0e12dc04",
   "metadata": {},
   "outputs": [],
   "source": []
  }
 ],
 "metadata": {
  "kernelspec": {
   "display_name": "Python 3 (ipykernel)",
   "language": "python",
   "name": "python3"
  },
  "language_info": {
   "codemirror_mode": {
    "name": "ipython",
    "version": 3
   },
   "file_extension": ".py",
   "mimetype": "text/x-python",
   "name": "python",
   "nbconvert_exporter": "python",
   "pygments_lexer": "ipython3",
   "version": "3.10.8"
  }
 },
 "nbformat": 4,
 "nbformat_minor": 5
}
